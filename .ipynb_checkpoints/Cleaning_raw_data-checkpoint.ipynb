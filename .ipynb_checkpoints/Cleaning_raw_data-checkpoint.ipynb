{
 "cells": [
  {
   "cell_type": "markdown",
   "id": "822365f9",
   "metadata": {},
   "source": [
    "# Data Wrangling, Cleaning of Data, Exploration of Data to make it consistent for Analysis"
   ]
  },
  {
   "cell_type": "code",
   "execution_count": 1,
   "id": "f08cee1d",
   "metadata": {},
   "outputs": [],
   "source": [
    "# Importing required libraries\n",
    "import numpy as np\n",
    "import pandas as pd\n",
    "import seaborn as sns\n",
    "import matplotlib \n",
    "import matplotlib.pyplot as plt\n",
    "%matplotlib inline"
   ]
  },
  {
   "cell_type": "code",
   "execution_count": 2,
   "id": "64caaf5d",
   "metadata": {},
   "outputs": [],
   "source": [
    "# Reading csv into raw dataframe\n",
    "df = pd.read_csv('vehicles.csv')"
   ]
  },
  {
   "cell_type": "markdown",
   "id": "f47199f8",
   "metadata": {},
   "source": [
    "# Getting some basic information about data in 'vehicles.csv'"
   ]
  },
  {
   "cell_type": "code",
   "execution_count": 3,
   "id": "dd9a4bb4",
   "metadata": {},
   "outputs": [
    {
     "data": {
      "text/html": [
       "<div>\n",
       "<style scoped>\n",
       "    .dataframe tbody tr th:only-of-type {\n",
       "        vertical-align: middle;\n",
       "    }\n",
       "\n",
       "    .dataframe tbody tr th {\n",
       "        vertical-align: top;\n",
       "    }\n",
       "\n",
       "    .dataframe thead th {\n",
       "        text-align: right;\n",
       "    }\n",
       "</style>\n",
       "<table border=\"1\" class=\"dataframe\">\n",
       "  <thead>\n",
       "    <tr style=\"text-align: right;\">\n",
       "      <th></th>\n",
       "      <th>id</th>\n",
       "      <th>url</th>\n",
       "      <th>region</th>\n",
       "      <th>region_url</th>\n",
       "      <th>price</th>\n",
       "      <th>year</th>\n",
       "      <th>manufacturer</th>\n",
       "      <th>model</th>\n",
       "      <th>condition</th>\n",
       "      <th>cylinders</th>\n",
       "      <th>...</th>\n",
       "      <th>size</th>\n",
       "      <th>type</th>\n",
       "      <th>paint_color</th>\n",
       "      <th>image_url</th>\n",
       "      <th>description</th>\n",
       "      <th>county</th>\n",
       "      <th>state</th>\n",
       "      <th>lat</th>\n",
       "      <th>long</th>\n",
       "      <th>posting_date</th>\n",
       "    </tr>\n",
       "  </thead>\n",
       "  <tbody>\n",
       "    <tr>\n",
       "      <th>0</th>\n",
       "      <td>7222695916</td>\n",
       "      <td>https://prescott.craigslist.org/cto/d/prescott...</td>\n",
       "      <td>prescott</td>\n",
       "      <td>https://prescott.craigslist.org</td>\n",
       "      <td>6000</td>\n",
       "      <td>NaN</td>\n",
       "      <td>NaN</td>\n",
       "      <td>NaN</td>\n",
       "      <td>NaN</td>\n",
       "      <td>NaN</td>\n",
       "      <td>...</td>\n",
       "      <td>NaN</td>\n",
       "      <td>NaN</td>\n",
       "      <td>NaN</td>\n",
       "      <td>NaN</td>\n",
       "      <td>NaN</td>\n",
       "      <td>NaN</td>\n",
       "      <td>az</td>\n",
       "      <td>NaN</td>\n",
       "      <td>NaN</td>\n",
       "      <td>NaN</td>\n",
       "    </tr>\n",
       "    <tr>\n",
       "      <th>1</th>\n",
       "      <td>7218891961</td>\n",
       "      <td>https://fayar.craigslist.org/ctd/d/bentonville...</td>\n",
       "      <td>fayetteville</td>\n",
       "      <td>https://fayar.craigslist.org</td>\n",
       "      <td>11900</td>\n",
       "      <td>NaN</td>\n",
       "      <td>NaN</td>\n",
       "      <td>NaN</td>\n",
       "      <td>NaN</td>\n",
       "      <td>NaN</td>\n",
       "      <td>...</td>\n",
       "      <td>NaN</td>\n",
       "      <td>NaN</td>\n",
       "      <td>NaN</td>\n",
       "      <td>NaN</td>\n",
       "      <td>NaN</td>\n",
       "      <td>NaN</td>\n",
       "      <td>ar</td>\n",
       "      <td>NaN</td>\n",
       "      <td>NaN</td>\n",
       "      <td>NaN</td>\n",
       "    </tr>\n",
       "    <tr>\n",
       "      <th>2</th>\n",
       "      <td>7221797935</td>\n",
       "      <td>https://keys.craigslist.org/cto/d/summerland-k...</td>\n",
       "      <td>florida keys</td>\n",
       "      <td>https://keys.craigslist.org</td>\n",
       "      <td>21000</td>\n",
       "      <td>NaN</td>\n",
       "      <td>NaN</td>\n",
       "      <td>NaN</td>\n",
       "      <td>NaN</td>\n",
       "      <td>NaN</td>\n",
       "      <td>...</td>\n",
       "      <td>NaN</td>\n",
       "      <td>NaN</td>\n",
       "      <td>NaN</td>\n",
       "      <td>NaN</td>\n",
       "      <td>NaN</td>\n",
       "      <td>NaN</td>\n",
       "      <td>fl</td>\n",
       "      <td>NaN</td>\n",
       "      <td>NaN</td>\n",
       "      <td>NaN</td>\n",
       "    </tr>\n",
       "    <tr>\n",
       "      <th>3</th>\n",
       "      <td>7222270760</td>\n",
       "      <td>https://worcester.craigslist.org/cto/d/west-br...</td>\n",
       "      <td>worcester / central MA</td>\n",
       "      <td>https://worcester.craigslist.org</td>\n",
       "      <td>1500</td>\n",
       "      <td>NaN</td>\n",
       "      <td>NaN</td>\n",
       "      <td>NaN</td>\n",
       "      <td>NaN</td>\n",
       "      <td>NaN</td>\n",
       "      <td>...</td>\n",
       "      <td>NaN</td>\n",
       "      <td>NaN</td>\n",
       "      <td>NaN</td>\n",
       "      <td>NaN</td>\n",
       "      <td>NaN</td>\n",
       "      <td>NaN</td>\n",
       "      <td>ma</td>\n",
       "      <td>NaN</td>\n",
       "      <td>NaN</td>\n",
       "      <td>NaN</td>\n",
       "    </tr>\n",
       "    <tr>\n",
       "      <th>4</th>\n",
       "      <td>7210384030</td>\n",
       "      <td>https://greensboro.craigslist.org/cto/d/trinit...</td>\n",
       "      <td>greensboro</td>\n",
       "      <td>https://greensboro.craigslist.org</td>\n",
       "      <td>4900</td>\n",
       "      <td>NaN</td>\n",
       "      <td>NaN</td>\n",
       "      <td>NaN</td>\n",
       "      <td>NaN</td>\n",
       "      <td>NaN</td>\n",
       "      <td>...</td>\n",
       "      <td>NaN</td>\n",
       "      <td>NaN</td>\n",
       "      <td>NaN</td>\n",
       "      <td>NaN</td>\n",
       "      <td>NaN</td>\n",
       "      <td>NaN</td>\n",
       "      <td>nc</td>\n",
       "      <td>NaN</td>\n",
       "      <td>NaN</td>\n",
       "      <td>NaN</td>\n",
       "    </tr>\n",
       "  </tbody>\n",
       "</table>\n",
       "<p>5 rows × 26 columns</p>\n",
       "</div>"
      ],
      "text/plain": [
       "           id                                                url  \\\n",
       "0  7222695916  https://prescott.craigslist.org/cto/d/prescott...   \n",
       "1  7218891961  https://fayar.craigslist.org/ctd/d/bentonville...   \n",
       "2  7221797935  https://keys.craigslist.org/cto/d/summerland-k...   \n",
       "3  7222270760  https://worcester.craigslist.org/cto/d/west-br...   \n",
       "4  7210384030  https://greensboro.craigslist.org/cto/d/trinit...   \n",
       "\n",
       "                   region                         region_url  price  year  \\\n",
       "0                prescott    https://prescott.craigslist.org   6000   NaN   \n",
       "1            fayetteville       https://fayar.craigslist.org  11900   NaN   \n",
       "2            florida keys        https://keys.craigslist.org  21000   NaN   \n",
       "3  worcester / central MA   https://worcester.craigslist.org   1500   NaN   \n",
       "4              greensboro  https://greensboro.craigslist.org   4900   NaN   \n",
       "\n",
       "  manufacturer model condition cylinders  ... size  type paint_color  \\\n",
       "0          NaN   NaN       NaN       NaN  ...  NaN   NaN         NaN   \n",
       "1          NaN   NaN       NaN       NaN  ...  NaN   NaN         NaN   \n",
       "2          NaN   NaN       NaN       NaN  ...  NaN   NaN         NaN   \n",
       "3          NaN   NaN       NaN       NaN  ...  NaN   NaN         NaN   \n",
       "4          NaN   NaN       NaN       NaN  ...  NaN   NaN         NaN   \n",
       "\n",
       "  image_url description county state lat long posting_date  \n",
       "0       NaN         NaN    NaN    az NaN  NaN          NaN  \n",
       "1       NaN         NaN    NaN    ar NaN  NaN          NaN  \n",
       "2       NaN         NaN    NaN    fl NaN  NaN          NaN  \n",
       "3       NaN         NaN    NaN    ma NaN  NaN          NaN  \n",
       "4       NaN         NaN    NaN    nc NaN  NaN          NaN  \n",
       "\n",
       "[5 rows x 26 columns]"
      ]
     },
     "execution_count": 3,
     "metadata": {},
     "output_type": "execute_result"
    }
   ],
   "source": [
    "df.head()"
   ]
  },
  {
   "cell_type": "code",
   "execution_count": 4,
   "id": "1bf8b347",
   "metadata": {},
   "outputs": [
    {
     "data": {
      "text/html": [
       "<div>\n",
       "<style scoped>\n",
       "    .dataframe tbody tr th:only-of-type {\n",
       "        vertical-align: middle;\n",
       "    }\n",
       "\n",
       "    .dataframe tbody tr th {\n",
       "        vertical-align: top;\n",
       "    }\n",
       "\n",
       "    .dataframe thead th {\n",
       "        text-align: right;\n",
       "    }\n",
       "</style>\n",
       "<table border=\"1\" class=\"dataframe\">\n",
       "  <thead>\n",
       "    <tr style=\"text-align: right;\">\n",
       "      <th></th>\n",
       "      <th>id</th>\n",
       "      <th>url</th>\n",
       "      <th>region</th>\n",
       "      <th>region_url</th>\n",
       "      <th>price</th>\n",
       "      <th>year</th>\n",
       "      <th>manufacturer</th>\n",
       "      <th>model</th>\n",
       "      <th>condition</th>\n",
       "      <th>cylinders</th>\n",
       "      <th>...</th>\n",
       "      <th>size</th>\n",
       "      <th>type</th>\n",
       "      <th>paint_color</th>\n",
       "      <th>image_url</th>\n",
       "      <th>description</th>\n",
       "      <th>county</th>\n",
       "      <th>state</th>\n",
       "      <th>lat</th>\n",
       "      <th>long</th>\n",
       "      <th>posting_date</th>\n",
       "    </tr>\n",
       "  </thead>\n",
       "  <tbody>\n",
       "    <tr>\n",
       "      <th>426875</th>\n",
       "      <td>7301591192</td>\n",
       "      <td>https://wyoming.craigslist.org/ctd/d/atlanta-2...</td>\n",
       "      <td>wyoming</td>\n",
       "      <td>https://wyoming.craigslist.org</td>\n",
       "      <td>23590</td>\n",
       "      <td>2019.0</td>\n",
       "      <td>nissan</td>\n",
       "      <td>maxima s sedan 4d</td>\n",
       "      <td>good</td>\n",
       "      <td>6 cylinders</td>\n",
       "      <td>...</td>\n",
       "      <td>NaN</td>\n",
       "      <td>sedan</td>\n",
       "      <td>NaN</td>\n",
       "      <td>https://images.craigslist.org/00o0o_iiraFnHg8q...</td>\n",
       "      <td>Carvana is the safer way to buy a car During t...</td>\n",
       "      <td>NaN</td>\n",
       "      <td>wy</td>\n",
       "      <td>33.786500</td>\n",
       "      <td>-84.445400</td>\n",
       "      <td>2021-04-04T03:21:31-0600</td>\n",
       "    </tr>\n",
       "    <tr>\n",
       "      <th>426876</th>\n",
       "      <td>7301591187</td>\n",
       "      <td>https://wyoming.craigslist.org/ctd/d/atlanta-2...</td>\n",
       "      <td>wyoming</td>\n",
       "      <td>https://wyoming.craigslist.org</td>\n",
       "      <td>30590</td>\n",
       "      <td>2020.0</td>\n",
       "      <td>volvo</td>\n",
       "      <td>s60 t5 momentum sedan 4d</td>\n",
       "      <td>good</td>\n",
       "      <td>NaN</td>\n",
       "      <td>...</td>\n",
       "      <td>NaN</td>\n",
       "      <td>sedan</td>\n",
       "      <td>red</td>\n",
       "      <td>https://images.craigslist.org/00x0x_15sbgnxCIS...</td>\n",
       "      <td>Carvana is the safer way to buy a car During t...</td>\n",
       "      <td>NaN</td>\n",
       "      <td>wy</td>\n",
       "      <td>33.786500</td>\n",
       "      <td>-84.445400</td>\n",
       "      <td>2021-04-04T03:21:29-0600</td>\n",
       "    </tr>\n",
       "    <tr>\n",
       "      <th>426877</th>\n",
       "      <td>7301591147</td>\n",
       "      <td>https://wyoming.craigslist.org/ctd/d/atlanta-2...</td>\n",
       "      <td>wyoming</td>\n",
       "      <td>https://wyoming.craigslist.org</td>\n",
       "      <td>34990</td>\n",
       "      <td>2020.0</td>\n",
       "      <td>cadillac</td>\n",
       "      <td>xt4 sport suv 4d</td>\n",
       "      <td>good</td>\n",
       "      <td>NaN</td>\n",
       "      <td>...</td>\n",
       "      <td>NaN</td>\n",
       "      <td>hatchback</td>\n",
       "      <td>white</td>\n",
       "      <td>https://images.craigslist.org/00L0L_farM7bxnxR...</td>\n",
       "      <td>Carvana is the safer way to buy a car During t...</td>\n",
       "      <td>NaN</td>\n",
       "      <td>wy</td>\n",
       "      <td>33.779214</td>\n",
       "      <td>-84.411811</td>\n",
       "      <td>2021-04-04T03:21:17-0600</td>\n",
       "    </tr>\n",
       "    <tr>\n",
       "      <th>426878</th>\n",
       "      <td>7301591140</td>\n",
       "      <td>https://wyoming.craigslist.org/ctd/d/atlanta-2...</td>\n",
       "      <td>wyoming</td>\n",
       "      <td>https://wyoming.craigslist.org</td>\n",
       "      <td>28990</td>\n",
       "      <td>2018.0</td>\n",
       "      <td>lexus</td>\n",
       "      <td>es 350 sedan 4d</td>\n",
       "      <td>good</td>\n",
       "      <td>6 cylinders</td>\n",
       "      <td>...</td>\n",
       "      <td>NaN</td>\n",
       "      <td>sedan</td>\n",
       "      <td>silver</td>\n",
       "      <td>https://images.craigslist.org/00z0z_bKnIVGLkDT...</td>\n",
       "      <td>Carvana is the safer way to buy a car During t...</td>\n",
       "      <td>NaN</td>\n",
       "      <td>wy</td>\n",
       "      <td>33.786500</td>\n",
       "      <td>-84.445400</td>\n",
       "      <td>2021-04-04T03:21:11-0600</td>\n",
       "    </tr>\n",
       "    <tr>\n",
       "      <th>426879</th>\n",
       "      <td>7301591129</td>\n",
       "      <td>https://wyoming.craigslist.org/ctd/d/atlanta-2...</td>\n",
       "      <td>wyoming</td>\n",
       "      <td>https://wyoming.craigslist.org</td>\n",
       "      <td>30590</td>\n",
       "      <td>2019.0</td>\n",
       "      <td>bmw</td>\n",
       "      <td>4 series 430i gran coupe</td>\n",
       "      <td>good</td>\n",
       "      <td>NaN</td>\n",
       "      <td>...</td>\n",
       "      <td>NaN</td>\n",
       "      <td>coupe</td>\n",
       "      <td>NaN</td>\n",
       "      <td>https://images.craigslist.org/00Y0Y_lEUocjyRxa...</td>\n",
       "      <td>Carvana is the safer way to buy a car During t...</td>\n",
       "      <td>NaN</td>\n",
       "      <td>wy</td>\n",
       "      <td>33.779214</td>\n",
       "      <td>-84.411811</td>\n",
       "      <td>2021-04-04T03:21:07-0600</td>\n",
       "    </tr>\n",
       "  </tbody>\n",
       "</table>\n",
       "<p>5 rows × 26 columns</p>\n",
       "</div>"
      ],
      "text/plain": [
       "                id                                                url  \\\n",
       "426875  7301591192  https://wyoming.craigslist.org/ctd/d/atlanta-2...   \n",
       "426876  7301591187  https://wyoming.craigslist.org/ctd/d/atlanta-2...   \n",
       "426877  7301591147  https://wyoming.craigslist.org/ctd/d/atlanta-2...   \n",
       "426878  7301591140  https://wyoming.craigslist.org/ctd/d/atlanta-2...   \n",
       "426879  7301591129  https://wyoming.craigslist.org/ctd/d/atlanta-2...   \n",
       "\n",
       "         region                      region_url  price    year manufacturer  \\\n",
       "426875  wyoming  https://wyoming.craigslist.org  23590  2019.0       nissan   \n",
       "426876  wyoming  https://wyoming.craigslist.org  30590  2020.0        volvo   \n",
       "426877  wyoming  https://wyoming.craigslist.org  34990  2020.0     cadillac   \n",
       "426878  wyoming  https://wyoming.craigslist.org  28990  2018.0        lexus   \n",
       "426879  wyoming  https://wyoming.craigslist.org  30590  2019.0          bmw   \n",
       "\n",
       "                           model condition    cylinders  ... size       type  \\\n",
       "426875         maxima s sedan 4d      good  6 cylinders  ...  NaN      sedan   \n",
       "426876  s60 t5 momentum sedan 4d      good          NaN  ...  NaN      sedan   \n",
       "426877          xt4 sport suv 4d      good          NaN  ...  NaN  hatchback   \n",
       "426878           es 350 sedan 4d      good  6 cylinders  ...  NaN      sedan   \n",
       "426879  4 series 430i gran coupe      good          NaN  ...  NaN      coupe   \n",
       "\n",
       "       paint_color                                          image_url  \\\n",
       "426875         NaN  https://images.craigslist.org/00o0o_iiraFnHg8q...   \n",
       "426876         red  https://images.craigslist.org/00x0x_15sbgnxCIS...   \n",
       "426877       white  https://images.craigslist.org/00L0L_farM7bxnxR...   \n",
       "426878      silver  https://images.craigslist.org/00z0z_bKnIVGLkDT...   \n",
       "426879         NaN  https://images.craigslist.org/00Y0Y_lEUocjyRxa...   \n",
       "\n",
       "                                              description county state  \\\n",
       "426875  Carvana is the safer way to buy a car During t...    NaN    wy   \n",
       "426876  Carvana is the safer way to buy a car During t...    NaN    wy   \n",
       "426877  Carvana is the safer way to buy a car During t...    NaN    wy   \n",
       "426878  Carvana is the safer way to buy a car During t...    NaN    wy   \n",
       "426879  Carvana is the safer way to buy a car During t...    NaN    wy   \n",
       "\n",
       "              lat       long              posting_date  \n",
       "426875  33.786500 -84.445400  2021-04-04T03:21:31-0600  \n",
       "426876  33.786500 -84.445400  2021-04-04T03:21:29-0600  \n",
       "426877  33.779214 -84.411811  2021-04-04T03:21:17-0600  \n",
       "426878  33.786500 -84.445400  2021-04-04T03:21:11-0600  \n",
       "426879  33.779214 -84.411811  2021-04-04T03:21:07-0600  \n",
       "\n",
       "[5 rows x 26 columns]"
      ]
     },
     "execution_count": 4,
     "metadata": {},
     "output_type": "execute_result"
    }
   ],
   "source": [
    "df.tail()"
   ]
  },
  {
   "cell_type": "code",
   "execution_count": 5,
   "id": "1b32fb32",
   "metadata": {},
   "outputs": [
    {
     "name": "stdout",
     "output_type": "stream",
     "text": [
      "<class 'pandas.core.frame.DataFrame'>\n",
      "RangeIndex: 426880 entries, 0 to 426879\n",
      "Data columns (total 26 columns):\n",
      " #   Column        Non-Null Count   Dtype  \n",
      "---  ------        --------------   -----  \n",
      " 0   id            426880 non-null  int64  \n",
      " 1   url           426880 non-null  object \n",
      " 2   region        426880 non-null  object \n",
      " 3   region_url    426880 non-null  object \n",
      " 4   price         426880 non-null  int64  \n",
      " 5   year          425675 non-null  float64\n",
      " 6   manufacturer  409234 non-null  object \n",
      " 7   model         421603 non-null  object \n",
      " 8   condition     252776 non-null  object \n",
      " 9   cylinders     249202 non-null  object \n",
      " 10  fuel          423867 non-null  object \n",
      " 11  odometer      422480 non-null  float64\n",
      " 12  title_status  418638 non-null  object \n",
      " 13  transmission  424324 non-null  object \n",
      " 14  VIN           265838 non-null  object \n",
      " 15  drive         296313 non-null  object \n",
      " 16  size          120519 non-null  object \n",
      " 17  type          334022 non-null  object \n",
      " 18  paint_color   296677 non-null  object \n",
      " 19  image_url     426812 non-null  object \n",
      " 20  description   426810 non-null  object \n",
      " 21  county        0 non-null       float64\n",
      " 22  state         426880 non-null  object \n",
      " 23  lat           420331 non-null  float64\n",
      " 24  long          420331 non-null  float64\n",
      " 25  posting_date  426812 non-null  object \n",
      "dtypes: float64(5), int64(2), object(19)\n",
      "memory usage: 84.7+ MB\n"
     ]
    }
   ],
   "source": [
    "df.info()"
   ]
  },
  {
   "cell_type": "markdown",
   "id": "9df0c454",
   "metadata": {},
   "source": [
    "# Dropping unnecessary columns"
   ]
  },
  {
   "cell_type": "code",
   "execution_count": 6,
   "id": "c30a6e66",
   "metadata": {},
   "outputs": [],
   "source": [
    "# Dropping columns which are not required for analysis\n",
    "df.drop(['region_url'], axis = 1, inplace = True)\n",
    "df.drop(['image_url'], axis = 1, inplace = True)\n",
    "df.drop(['county'], axis = 1, inplace = True)\n",
    "df.drop(['lat'], axis = 1, inplace = True)\n",
    "df.drop(['long'], axis = 1, inplace = True)\n",
    "df.drop(['url'], axis = 1, inplace = True)\n",
    "df.drop(['description'], axis = 1, inplace = True)"
   ]
  },
  {
   "cell_type": "markdown",
   "id": "8ed4de16",
   "metadata": {},
   "source": [
    "# Checking for missing values and taking actions accordingly as per requirement of each column separately"
   ]
  },
  {
   "cell_type": "code",
   "execution_count": 7,
   "id": "11cbfb82",
   "metadata": {},
   "outputs": [
    {
     "data": {
      "text/plain": [
       "id                   0\n",
       "region               0\n",
       "price                0\n",
       "year              1205\n",
       "manufacturer     17646\n",
       "model             5277\n",
       "condition       174104\n",
       "cylinders       177678\n",
       "fuel              3013\n",
       "odometer          4400\n",
       "title_status      8242\n",
       "transmission      2556\n",
       "VIN             161042\n",
       "drive           130567\n",
       "size            306361\n",
       "type             92858\n",
       "paint_color     130203\n",
       "state                0\n",
       "posting_date        68\n",
       "dtype: int64"
      ]
     },
     "execution_count": 7,
     "metadata": {},
     "output_type": "execute_result"
    }
   ],
   "source": [
    "# Checking columns for null values \n",
    "df.isnull().sum()"
   ]
  },
  {
   "cell_type": "code",
   "execution_count": 8,
   "id": "d9eae848",
   "metadata": {},
   "outputs": [
    {
     "data": {
      "text/plain": [
       "161042"
      ]
     },
     "execution_count": 8,
     "metadata": {},
     "output_type": "execute_result"
    }
   ],
   "source": [
    "# Checking the column 'VIN(Vehicle Identification Number)' for null values \n",
    "df['VIN'].isnull().values.sum()"
   ]
  },
  {
   "cell_type": "code",
   "execution_count": 9,
   "id": "577ac7e5",
   "metadata": {},
   "outputs": [],
   "source": [
    "# Changing the entries in 'VIN' column from 'NaN' to 'Not_mentioned'\n",
    "df['VIN'].fillna('Not_mentioned', inplace=True)"
   ]
  },
  {
   "cell_type": "code",
   "execution_count": 10,
   "id": "eb931285",
   "metadata": {},
   "outputs": [
    {
     "data": {
      "text/plain": [
       "0"
      ]
     },
     "execution_count": 10,
     "metadata": {},
     "output_type": "execute_result"
    }
   ],
   "source": [
    "df['VIN'].isnull().values.sum()"
   ]
  },
  {
   "cell_type": "code",
   "execution_count": 11,
   "id": "d8c299be",
   "metadata": {},
   "outputs": [
    {
     "data": {
      "text/plain": [
       "1205"
      ]
     },
     "execution_count": 11,
     "metadata": {},
     "output_type": "execute_result"
    }
   ],
   "source": [
    "# Checking the column 'year' for null values\n",
    "df['year'].isnull().sum()"
   ]
  },
  {
   "cell_type": "code",
   "execution_count": 12,
   "id": "b2487f4c",
   "metadata": {},
   "outputs": [],
   "source": [
    "# Dropping the null values in 'year' column\n",
    "df.dropna(subset=['year'], inplace = True)"
   ]
  },
  {
   "cell_type": "code",
   "execution_count": 13,
   "id": "4142fc13",
   "metadata": {},
   "outputs": [
    {
     "data": {
      "text/plain": [
       "0"
      ]
     },
     "execution_count": 13,
     "metadata": {},
     "output_type": "execute_result"
    }
   ],
   "source": [
    "df['year'].isnull().sum()"
   ]
  },
  {
   "cell_type": "code",
   "execution_count": 14,
   "id": "a52c657d",
   "metadata": {},
   "outputs": [
    {
     "name": "stdout",
     "output_type": "stream",
     "text": [
      "<class 'pandas.core.frame.DataFrame'>\n",
      "Int64Index: 425675 entries, 27 to 426879\n",
      "Data columns (total 19 columns):\n",
      " #   Column        Non-Null Count   Dtype  \n",
      "---  ------        --------------   -----  \n",
      " 0   id            425675 non-null  int64  \n",
      " 1   region        425675 non-null  object \n",
      " 2   price         425675 non-null  int64  \n",
      " 3   year          425675 non-null  float64\n",
      " 4   manufacturer  409228 non-null  object \n",
      " 5   model         420466 non-null  object \n",
      " 6   condition     252766 non-null  object \n",
      " 7   cylinders     248084 non-null  object \n",
      " 8   fuel          422930 non-null  object \n",
      " 9   odometer      421344 non-null  float64\n",
      " 10  title_status  417745 non-null  object \n",
      " 11  transmission  423187 non-null  object \n",
      " 12  VIN           425675 non-null  object \n",
      " 13  drive         295408 non-null  object \n",
      " 14  size          120519 non-null  object \n",
      " 15  type          333008 non-null  object \n",
      " 16  paint_color   295627 non-null  object \n",
      " 17  state         425675 non-null  object \n",
      " 18  posting_date  425675 non-null  object \n",
      "dtypes: float64(2), int64(2), object(15)\n",
      "memory usage: 65.0+ MB\n"
     ]
    }
   ],
   "source": [
    "df.info()"
   ]
  },
  {
   "cell_type": "code",
   "execution_count": 15,
   "id": "bf5db058",
   "metadata": {},
   "outputs": [
    {
     "data": {
      "text/plain": [
       "16447"
      ]
     },
     "execution_count": 15,
     "metadata": {},
     "output_type": "execute_result"
    }
   ],
   "source": [
    "# Checking the column 'manufacturer' for null values\n",
    "df['manufacturer'].isnull().sum()"
   ]
  },
  {
   "cell_type": "code",
   "execution_count": 16,
   "id": "aa82ee16",
   "metadata": {},
   "outputs": [],
   "source": [
    "# Changing the 'manufacturer' from NaN to 'Other'\n",
    "df['manufacturer'].fillna('Other', inplace=True)"
   ]
  },
  {
   "cell_type": "code",
   "execution_count": 17,
   "id": "68a0fef1",
   "metadata": {},
   "outputs": [
    {
     "data": {
      "text/plain": [
       "5209"
      ]
     },
     "execution_count": 17,
     "metadata": {},
     "output_type": "execute_result"
    }
   ],
   "source": [
    "# Checking the column 'model' for null values\n",
    "df['model'].isnull().sum()"
   ]
  },
  {
   "cell_type": "code",
   "execution_count": 18,
   "id": "807f1f88",
   "metadata": {},
   "outputs": [],
   "source": [
    "# Changing the entries in 'model' column from 'NaN' to 'Other'\n",
    "df['model'].fillna('Other', inplace=True)"
   ]
  },
  {
   "cell_type": "code",
   "execution_count": 19,
   "id": "6f785c9b",
   "metadata": {},
   "outputs": [
    {
     "data": {
      "text/plain": [
       "172909"
      ]
     },
     "execution_count": 19,
     "metadata": {},
     "output_type": "execute_result"
    }
   ],
   "source": [
    "# Checking the column 'condition' for null values\n",
    "df['condition'].isnull().sum()"
   ]
  },
  {
   "cell_type": "code",
   "execution_count": 20,
   "id": "c69ec233",
   "metadata": {},
   "outputs": [],
   "source": [
    "# Changing the entries in 'condition' column from 'NaN' to 'Not_mentioned'\n",
    "df['condition'].fillna('Not_mentioned', inplace=True)"
   ]
  },
  {
   "cell_type": "code",
   "execution_count": 21,
   "id": "8922a22a",
   "metadata": {},
   "outputs": [],
   "source": [
    "# Changing the entries in 'cylinders' column from 'NaN' to 'Not_mentioned'\n",
    "df['cylinders'].fillna('Not_mentioned', inplace=True)"
   ]
  },
  {
   "cell_type": "code",
   "execution_count": 22,
   "id": "cd56bfd1",
   "metadata": {},
   "outputs": [
    {
     "data": {
      "text/plain": [
       "array(['gas', 'other', 'diesel', 'hybrid', nan, 'electric'], dtype=object)"
      ]
     },
     "execution_count": 22,
     "metadata": {},
     "output_type": "execute_result"
    }
   ],
   "source": [
    "# Getting unique values in column 'fuel'\n",
    "df['fuel'].unique()"
   ]
  },
  {
   "cell_type": "code",
   "execution_count": 23,
   "id": "cf0df4b4",
   "metadata": {},
   "outputs": [],
   "source": [
    "# Changing the entries in 'fuel' column from 'NaN' to 'Not_mentioned'\n",
    "df['fuel'].fillna('Not_mentioned', inplace=True)"
   ]
  },
  {
   "cell_type": "code",
   "execution_count": 24,
   "id": "4c26b585",
   "metadata": {},
   "outputs": [
    {
     "data": {
      "text/plain": [
       "4331"
      ]
     },
     "execution_count": 24,
     "metadata": {},
     "output_type": "execute_result"
    }
   ],
   "source": [
    "# Checking the column 'odometer' for null values\n",
    "df['odometer'].isnull().sum()"
   ]
  },
  {
   "cell_type": "code",
   "execution_count": 25,
   "id": "cb198eea",
   "metadata": {},
   "outputs": [],
   "source": [
    "# Dropping the null values in 'odometer' column\n",
    "df.dropna(subset=['odometer'], inplace = True)"
   ]
  },
  {
   "cell_type": "code",
   "execution_count": 26,
   "id": "d49fd1b7",
   "metadata": {},
   "outputs": [
    {
     "data": {
      "text/html": [
       "<div>\n",
       "<style scoped>\n",
       "    .dataframe tbody tr th:only-of-type {\n",
       "        vertical-align: middle;\n",
       "    }\n",
       "\n",
       "    .dataframe tbody tr th {\n",
       "        vertical-align: top;\n",
       "    }\n",
       "\n",
       "    .dataframe thead th {\n",
       "        text-align: right;\n",
       "    }\n",
       "</style>\n",
       "<table border=\"1\" class=\"dataframe\">\n",
       "  <thead>\n",
       "    <tr style=\"text-align: right;\">\n",
       "      <th></th>\n",
       "      <th>id</th>\n",
       "      <th>region</th>\n",
       "      <th>price</th>\n",
       "      <th>year</th>\n",
       "      <th>manufacturer</th>\n",
       "      <th>model</th>\n",
       "      <th>condition</th>\n",
       "      <th>cylinders</th>\n",
       "      <th>fuel</th>\n",
       "      <th>odometer</th>\n",
       "      <th>title_status</th>\n",
       "      <th>transmission</th>\n",
       "      <th>VIN</th>\n",
       "      <th>drive</th>\n",
       "      <th>size</th>\n",
       "      <th>type</th>\n",
       "      <th>paint_color</th>\n",
       "      <th>state</th>\n",
       "      <th>posting_date</th>\n",
       "    </tr>\n",
       "  </thead>\n",
       "  <tbody>\n",
       "    <tr>\n",
       "      <th>426875</th>\n",
       "      <td>7301591192</td>\n",
       "      <td>wyoming</td>\n",
       "      <td>23590</td>\n",
       "      <td>2019.0</td>\n",
       "      <td>nissan</td>\n",
       "      <td>maxima s sedan 4d</td>\n",
       "      <td>good</td>\n",
       "      <td>6 cylinders</td>\n",
       "      <td>gas</td>\n",
       "      <td>32226.0</td>\n",
       "      <td>clean</td>\n",
       "      <td>other</td>\n",
       "      <td>1N4AA6AV6KC367801</td>\n",
       "      <td>fwd</td>\n",
       "      <td>NaN</td>\n",
       "      <td>sedan</td>\n",
       "      <td>NaN</td>\n",
       "      <td>wy</td>\n",
       "      <td>2021-04-04T03:21:31-0600</td>\n",
       "    </tr>\n",
       "    <tr>\n",
       "      <th>426876</th>\n",
       "      <td>7301591187</td>\n",
       "      <td>wyoming</td>\n",
       "      <td>30590</td>\n",
       "      <td>2020.0</td>\n",
       "      <td>volvo</td>\n",
       "      <td>s60 t5 momentum sedan 4d</td>\n",
       "      <td>good</td>\n",
       "      <td>Not_mentioned</td>\n",
       "      <td>gas</td>\n",
       "      <td>12029.0</td>\n",
       "      <td>clean</td>\n",
       "      <td>other</td>\n",
       "      <td>7JR102FKXLG042696</td>\n",
       "      <td>fwd</td>\n",
       "      <td>NaN</td>\n",
       "      <td>sedan</td>\n",
       "      <td>red</td>\n",
       "      <td>wy</td>\n",
       "      <td>2021-04-04T03:21:29-0600</td>\n",
       "    </tr>\n",
       "    <tr>\n",
       "      <th>426877</th>\n",
       "      <td>7301591147</td>\n",
       "      <td>wyoming</td>\n",
       "      <td>34990</td>\n",
       "      <td>2020.0</td>\n",
       "      <td>cadillac</td>\n",
       "      <td>xt4 sport suv 4d</td>\n",
       "      <td>good</td>\n",
       "      <td>Not_mentioned</td>\n",
       "      <td>diesel</td>\n",
       "      <td>4174.0</td>\n",
       "      <td>clean</td>\n",
       "      <td>other</td>\n",
       "      <td>1GYFZFR46LF088296</td>\n",
       "      <td>NaN</td>\n",
       "      <td>NaN</td>\n",
       "      <td>hatchback</td>\n",
       "      <td>white</td>\n",
       "      <td>wy</td>\n",
       "      <td>2021-04-04T03:21:17-0600</td>\n",
       "    </tr>\n",
       "    <tr>\n",
       "      <th>426878</th>\n",
       "      <td>7301591140</td>\n",
       "      <td>wyoming</td>\n",
       "      <td>28990</td>\n",
       "      <td>2018.0</td>\n",
       "      <td>lexus</td>\n",
       "      <td>es 350 sedan 4d</td>\n",
       "      <td>good</td>\n",
       "      <td>6 cylinders</td>\n",
       "      <td>gas</td>\n",
       "      <td>30112.0</td>\n",
       "      <td>clean</td>\n",
       "      <td>other</td>\n",
       "      <td>58ABK1GG4JU103853</td>\n",
       "      <td>fwd</td>\n",
       "      <td>NaN</td>\n",
       "      <td>sedan</td>\n",
       "      <td>silver</td>\n",
       "      <td>wy</td>\n",
       "      <td>2021-04-04T03:21:11-0600</td>\n",
       "    </tr>\n",
       "    <tr>\n",
       "      <th>426879</th>\n",
       "      <td>7301591129</td>\n",
       "      <td>wyoming</td>\n",
       "      <td>30590</td>\n",
       "      <td>2019.0</td>\n",
       "      <td>bmw</td>\n",
       "      <td>4 series 430i gran coupe</td>\n",
       "      <td>good</td>\n",
       "      <td>Not_mentioned</td>\n",
       "      <td>gas</td>\n",
       "      <td>22716.0</td>\n",
       "      <td>clean</td>\n",
       "      <td>other</td>\n",
       "      <td>WBA4J1C58KBM14708</td>\n",
       "      <td>rwd</td>\n",
       "      <td>NaN</td>\n",
       "      <td>coupe</td>\n",
       "      <td>NaN</td>\n",
       "      <td>wy</td>\n",
       "      <td>2021-04-04T03:21:07-0600</td>\n",
       "    </tr>\n",
       "  </tbody>\n",
       "</table>\n",
       "</div>"
      ],
      "text/plain": [
       "                id   region  price    year manufacturer  \\\n",
       "426875  7301591192  wyoming  23590  2019.0       nissan   \n",
       "426876  7301591187  wyoming  30590  2020.0        volvo   \n",
       "426877  7301591147  wyoming  34990  2020.0     cadillac   \n",
       "426878  7301591140  wyoming  28990  2018.0        lexus   \n",
       "426879  7301591129  wyoming  30590  2019.0          bmw   \n",
       "\n",
       "                           model condition      cylinders    fuel  odometer  \\\n",
       "426875         maxima s sedan 4d      good    6 cylinders     gas   32226.0   \n",
       "426876  s60 t5 momentum sedan 4d      good  Not_mentioned     gas   12029.0   \n",
       "426877          xt4 sport suv 4d      good  Not_mentioned  diesel    4174.0   \n",
       "426878           es 350 sedan 4d      good    6 cylinders     gas   30112.0   \n",
       "426879  4 series 430i gran coupe      good  Not_mentioned     gas   22716.0   \n",
       "\n",
       "       title_status transmission                VIN drive size       type  \\\n",
       "426875        clean        other  1N4AA6AV6KC367801   fwd  NaN      sedan   \n",
       "426876        clean        other  7JR102FKXLG042696   fwd  NaN      sedan   \n",
       "426877        clean        other  1GYFZFR46LF088296   NaN  NaN  hatchback   \n",
       "426878        clean        other  58ABK1GG4JU103853   fwd  NaN      sedan   \n",
       "426879        clean        other  WBA4J1C58KBM14708   rwd  NaN      coupe   \n",
       "\n",
       "       paint_color state              posting_date  \n",
       "426875         NaN    wy  2021-04-04T03:21:31-0600  \n",
       "426876         red    wy  2021-04-04T03:21:29-0600  \n",
       "426877       white    wy  2021-04-04T03:21:17-0600  \n",
       "426878      silver    wy  2021-04-04T03:21:11-0600  \n",
       "426879         NaN    wy  2021-04-04T03:21:07-0600  "
      ]
     },
     "execution_count": 26,
     "metadata": {},
     "output_type": "execute_result"
    }
   ],
   "source": [
    "df.tail()"
   ]
  },
  {
   "cell_type": "code",
   "execution_count": 27,
   "id": "227ba44b",
   "metadata": {},
   "outputs": [
    {
     "data": {
      "text/plain": [
       "array(['clean', 'rebuilt', 'lien', nan, 'salvage', 'missing',\n",
       "       'parts only'], dtype=object)"
      ]
     },
     "execution_count": 27,
     "metadata": {},
     "output_type": "execute_result"
    }
   ],
   "source": [
    "# Getting unique values in column 'title_status'\n",
    "df['title_status'].unique()"
   ]
  },
  {
   "cell_type": "code",
   "execution_count": 28,
   "id": "e76236aa",
   "metadata": {},
   "outputs": [
    {
     "data": {
      "text/plain": [
       "7358"
      ]
     },
     "execution_count": 28,
     "metadata": {},
     "output_type": "execute_result"
    }
   ],
   "source": [
    "# Checking the column 'title_status' for null values\n",
    "df['title_status'].isnull().sum()"
   ]
  },
  {
   "cell_type": "code",
   "execution_count": 29,
   "id": "4ce57fd6",
   "metadata": {},
   "outputs": [],
   "source": [
    "# Changing the entries in 'title_status' column from 'NaN' to 'Not_mentioned'\n",
    "df['title_status'].fillna('Not_mentioned', inplace=True)"
   ]
  },
  {
   "cell_type": "code",
   "execution_count": 30,
   "id": "4ddf0206",
   "metadata": {},
   "outputs": [
    {
     "data": {
      "text/plain": [
       "array(['other', 'automatic', 'manual', nan], dtype=object)"
      ]
     },
     "execution_count": 30,
     "metadata": {},
     "output_type": "execute_result"
    }
   ],
   "source": [
    "# Getting unique values in column 'transmission'\n",
    "df['transmission'].unique()"
   ]
  },
  {
   "cell_type": "code",
   "execution_count": 31,
   "id": "9795269a",
   "metadata": {},
   "outputs": [
    {
     "data": {
      "text/plain": [
       "1695"
      ]
     },
     "execution_count": 31,
     "metadata": {},
     "output_type": "execute_result"
    }
   ],
   "source": [
    "# Checking the column 'transmission' for null values\n",
    "df['transmission'].isnull().sum()"
   ]
  },
  {
   "cell_type": "code",
   "execution_count": 32,
   "id": "4d2643df",
   "metadata": {},
   "outputs": [],
   "source": [
    "# Changing the entries in 'transmission' column from 'NaN' to 'Not_mentioned'\n",
    "df['transmission'].fillna('other', inplace=True)"
   ]
  },
  {
   "cell_type": "code",
   "execution_count": 33,
   "id": "4a117ba3",
   "metadata": {},
   "outputs": [
    {
     "data": {
      "text/plain": [
       "array(['other', 'automatic', 'manual'], dtype=object)"
      ]
     },
     "execution_count": 33,
     "metadata": {},
     "output_type": "execute_result"
    }
   ],
   "source": [
    "# Getting unique values in column 'transmission'\n",
    "df['transmission'].unique()"
   ]
  },
  {
   "cell_type": "code",
   "execution_count": 34,
   "id": "c2bdb79a",
   "metadata": {},
   "outputs": [
    {
     "data": {
      "text/plain": [
       "128849"
      ]
     },
     "execution_count": 34,
     "metadata": {},
     "output_type": "execute_result"
    }
   ],
   "source": [
    "# Checking the column 'drive' for null values\n",
    "df['drive'].isnull().sum()"
   ]
  },
  {
   "cell_type": "code",
   "execution_count": 35,
   "id": "0a110225",
   "metadata": {},
   "outputs": [
    {
     "data": {
      "text/plain": [
       "array([nan, 'rwd', '4wd', 'fwd'], dtype=object)"
      ]
     },
     "execution_count": 35,
     "metadata": {},
     "output_type": "execute_result"
    }
   ],
   "source": [
    "# Getting unique values in column 'drive'\n",
    "df['drive'].unique()"
   ]
  },
  {
   "cell_type": "code",
   "execution_count": 36,
   "id": "463e70a0",
   "metadata": {},
   "outputs": [],
   "source": [
    "# Changing the entries in 'drive' column from 'NaN' to 'Not_mentioned'\n",
    "df['drive'].fillna('Not_mentioned', inplace=True)"
   ]
  },
  {
   "cell_type": "code",
   "execution_count": 37,
   "id": "e924b614",
   "metadata": {},
   "outputs": [
    {
     "data": {
      "text/plain": [
       "array([nan, 'full-size', 'mid-size', 'compact', 'sub-compact'],\n",
       "      dtype=object)"
      ]
     },
     "execution_count": 37,
     "metadata": {},
     "output_type": "execute_result"
    }
   ],
   "source": [
    "# Getting unique values in column 'size'\n",
    "df['size'].unique()"
   ]
  },
  {
   "cell_type": "code",
   "execution_count": 38,
   "id": "c13a9240",
   "metadata": {},
   "outputs": [
    {
     "data": {
      "text/plain": [
       "301612"
      ]
     },
     "execution_count": 38,
     "metadata": {},
     "output_type": "execute_result"
    }
   ],
   "source": [
    "# Checking the column 'size' for null values\n",
    "df['size'].isnull().sum()"
   ]
  },
  {
   "cell_type": "code",
   "execution_count": 39,
   "id": "39a5e828",
   "metadata": {},
   "outputs": [],
   "source": [
    "# Changing the entries in 'size' column from 'NaN' to 'Not_mentioned'\n",
    "df['size'].fillna('Not_mentioned', inplace=True)"
   ]
  },
  {
   "cell_type": "code",
   "execution_count": 40,
   "id": "9940cb47",
   "metadata": {},
   "outputs": [
    {
     "data": {
      "text/plain": [
       "array(['pickup', 'truck', 'other', nan, 'coupe', 'SUV', 'hatchback',\n",
       "       'mini-van', 'sedan', 'offroad', 'bus', 'van', 'convertible',\n",
       "       'wagon'], dtype=object)"
      ]
     },
     "execution_count": 40,
     "metadata": {},
     "output_type": "execute_result"
    }
   ],
   "source": [
    "# Getting unique values in column 'type'\n",
    "df['type'].unique()"
   ]
  },
  {
   "cell_type": "code",
   "execution_count": 41,
   "id": "8f9df531",
   "metadata": {},
   "outputs": [],
   "source": [
    "# Changing the entries in 'type' column from 'NaN' to 'other'\n",
    "df['type'].fillna('other', inplace=True)"
   ]
  },
  {
   "cell_type": "code",
   "execution_count": 42,
   "id": "b66a32da",
   "metadata": {},
   "outputs": [
    {
     "data": {
      "text/plain": [
       "array(['pickup', 'truck', 'other', 'coupe', 'SUV', 'hatchback',\n",
       "       'mini-van', 'sedan', 'offroad', 'bus', 'van', 'convertible',\n",
       "       'wagon'], dtype=object)"
      ]
     },
     "execution_count": 42,
     "metadata": {},
     "output_type": "execute_result"
    }
   ],
   "source": [
    "# Getting unique values in column 'type'\n",
    "df['type'].unique()"
   ]
  },
  {
   "cell_type": "code",
   "execution_count": 43,
   "id": "aeca6fcb",
   "metadata": {},
   "outputs": [
    {
     "data": {
      "text/plain": [
       "array(['white', 'blue', 'red', 'black', 'silver', 'grey', nan, 'brown',\n",
       "       'yellow', 'orange', 'green', 'custom', 'purple'], dtype=object)"
      ]
     },
     "execution_count": 43,
     "metadata": {},
     "output_type": "execute_result"
    }
   ],
   "source": [
    "# Getting unique values in column 'paint_color'\n",
    "df['paint_color'].unique()"
   ]
  },
  {
   "cell_type": "code",
   "execution_count": 44,
   "id": "9288bbaa",
   "metadata": {},
   "outputs": [],
   "source": [
    "# Changing the entries in 'paint_color' column from 'NaN' to 'Not_mentioned'\n",
    "df['paint_color'].fillna('Not_mentioned', inplace=True)"
   ]
  },
  {
   "cell_type": "markdown",
   "id": "2675d13c",
   "metadata": {},
   "source": [
    "# Providing some extra data wrangling which is required to get genuine results"
   ]
  },
  {
   "cell_type": "code",
   "execution_count": 45,
   "id": "d52cfbb3",
   "metadata": {},
   "outputs": [
    {
     "data": {
      "text/plain": [
       "0        30759\n",
       "6995      3153\n",
       "7995      3119\n",
       "9995      2847\n",
       "8995      2826\n",
       "         ...  \n",
       "14739        1\n",
       "31721        1\n",
       "3496         1\n",
       "3896         1\n",
       "17873        1\n",
       "Name: price, Length: 15508, dtype: int64"
      ]
     },
     "execution_count": 45,
     "metadata": {},
     "output_type": "execute_result"
    }
   ],
   "source": [
    "df['price'].value_counts()"
   ]
  },
  {
   "cell_type": "code",
   "execution_count": 46,
   "id": "c2a136dd",
   "metadata": {},
   "outputs": [],
   "source": [
    "# Creating variable 'cars_with_no_value' so that we can pass the index to main dataframe to \n",
    "# remove cars with 0 price and clean title status---> As no one sells their \n",
    "# car with clean status at 0 price.\n",
    "cars_with_no_value = df[(df['price'] == 0) & (df['title_status'] == 'clean')].index"
   ]
  },
  {
   "cell_type": "code",
   "execution_count": 47,
   "id": "afa7af06",
   "metadata": {},
   "outputs": [
    {
     "data": {
      "text/plain": [
       "30487"
      ]
     },
     "execution_count": 47,
     "metadata": {},
     "output_type": "execute_result"
    }
   ],
   "source": [
    "# Getting number of values of our new variable\n",
    "cars_with_no_value.value_counts().sum()"
   ]
  },
  {
   "cell_type": "code",
   "execution_count": 48,
   "id": "ee863bc3",
   "metadata": {},
   "outputs": [],
   "source": [
    "# Dropping the rows which are in variable 'cars_with_no_value'\n",
    "df.drop(cars_with_no_value, inplace = True)"
   ]
  },
  {
   "cell_type": "code",
   "execution_count": 49,
   "id": "9baa9787",
   "metadata": {},
   "outputs": [
    {
     "name": "stdout",
     "output_type": "stream",
     "text": [
      "<class 'pandas.core.frame.DataFrame'>\n",
      "Int64Index: 390857 entries, 27 to 426879\n",
      "Data columns (total 19 columns):\n",
      " #   Column        Non-Null Count   Dtype  \n",
      "---  ------        --------------   -----  \n",
      " 0   id            390857 non-null  int64  \n",
      " 1   region        390857 non-null  object \n",
      " 2   price         390857 non-null  int64  \n",
      " 3   year          390857 non-null  float64\n",
      " 4   manufacturer  390857 non-null  object \n",
      " 5   model         390857 non-null  object \n",
      " 6   condition     390857 non-null  object \n",
      " 7   cylinders     390857 non-null  object \n",
      " 8   fuel          390857 non-null  object \n",
      " 9   odometer      390857 non-null  float64\n",
      " 10  title_status  390857 non-null  object \n",
      " 11  transmission  390857 non-null  object \n",
      " 12  VIN           390857 non-null  object \n",
      " 13  drive         390857 non-null  object \n",
      " 14  size          390857 non-null  object \n",
      " 15  type          390857 non-null  object \n",
      " 16  paint_color   390857 non-null  object \n",
      " 17  state         390857 non-null  object \n",
      " 18  posting_date  390857 non-null  object \n",
      "dtypes: float64(2), int64(2), object(15)\n",
      "memory usage: 59.6+ MB\n"
     ]
    }
   ],
   "source": [
    "df.info()"
   ]
  },
  {
   "cell_type": "code",
   "execution_count": 50,
   "id": "68c2ba11",
   "metadata": {},
   "outputs": [
    {
     "data": {
      "text/plain": [
       "27        2021\n",
       "28        2021\n",
       "29        2021\n",
       "30        2021\n",
       "31        2021\n",
       "          ... \n",
       "426875    2021\n",
       "426876    2021\n",
       "426877    2021\n",
       "426878    2021\n",
       "426879    2021\n",
       "Name: posting_date, Length: 390857, dtype: object"
      ]
     },
     "execution_count": 50,
     "metadata": {},
     "output_type": "execute_result"
    }
   ],
   "source": [
    "# Splitting the object in 'posting_date' column to get 'Posting_year'\n",
    "df['posting_date'].str.split('-').str[0]"
   ]
  },
  {
   "cell_type": "code",
   "execution_count": 51,
   "id": "53069f69",
   "metadata": {},
   "outputs": [],
   "source": [
    "# Creating 'Posting_year' column from splitted value in 'posting_date' column\n",
    "df['Posting_Year']=df['posting_date'].str.split('-').str[0]"
   ]
  },
  {
   "cell_type": "code",
   "execution_count": 52,
   "id": "308e0a52",
   "metadata": {},
   "outputs": [],
   "source": [
    "# Converting the column 'Posting_year' to 'int' datatype\n",
    "df['Posting_Year']=df['Posting_Year'].astype(int)"
   ]
  },
  {
   "cell_type": "code",
   "execution_count": 53,
   "id": "be5fedbb",
   "metadata": {},
   "outputs": [],
   "source": [
    "# Converting the column 'year' to 'int' datatype\n",
    "df['year']=df['year'].astype(int)"
   ]
  },
  {
   "cell_type": "code",
   "execution_count": 54,
   "id": "4b4de8b2",
   "metadata": {},
   "outputs": [],
   "source": [
    "# Dropping the 'posting_date' column\n",
    "df.drop('posting_date',axis=1,inplace=True)"
   ]
  },
  {
   "cell_type": "code",
   "execution_count": 55,
   "id": "6ef264d8",
   "metadata": {},
   "outputs": [],
   "source": [
    "# Converting the column 'odometer' to 'int' datatype\n",
    "df['odometer']=df['odometer'].astype(int)"
   ]
  },
  {
   "cell_type": "code",
   "execution_count": 56,
   "id": "1baec46e",
   "metadata": {},
   "outputs": [
    {
     "data": {
      "text/html": [
       "<div>\n",
       "<style scoped>\n",
       "    .dataframe tbody tr th:only-of-type {\n",
       "        vertical-align: middle;\n",
       "    }\n",
       "\n",
       "    .dataframe tbody tr th {\n",
       "        vertical-align: top;\n",
       "    }\n",
       "\n",
       "    .dataframe thead th {\n",
       "        text-align: right;\n",
       "    }\n",
       "</style>\n",
       "<table border=\"1\" class=\"dataframe\">\n",
       "  <thead>\n",
       "    <tr style=\"text-align: right;\">\n",
       "      <th></th>\n",
       "      <th>id</th>\n",
       "      <th>region</th>\n",
       "      <th>price</th>\n",
       "      <th>year</th>\n",
       "      <th>manufacturer</th>\n",
       "      <th>model</th>\n",
       "      <th>condition</th>\n",
       "      <th>cylinders</th>\n",
       "      <th>fuel</th>\n",
       "      <th>odometer</th>\n",
       "      <th>title_status</th>\n",
       "      <th>transmission</th>\n",
       "      <th>VIN</th>\n",
       "      <th>drive</th>\n",
       "      <th>size</th>\n",
       "      <th>type</th>\n",
       "      <th>paint_color</th>\n",
       "      <th>state</th>\n",
       "      <th>Posting_Year</th>\n",
       "    </tr>\n",
       "  </thead>\n",
       "  <tbody>\n",
       "    <tr>\n",
       "      <th>27</th>\n",
       "      <td>7316814884</td>\n",
       "      <td>auburn</td>\n",
       "      <td>33590</td>\n",
       "      <td>2014</td>\n",
       "      <td>gmc</td>\n",
       "      <td>sierra 1500 crew cab slt</td>\n",
       "      <td>good</td>\n",
       "      <td>8 cylinders</td>\n",
       "      <td>gas</td>\n",
       "      <td>57923</td>\n",
       "      <td>clean</td>\n",
       "      <td>other</td>\n",
       "      <td>3GTP1VEC4EG551563</td>\n",
       "      <td>Not_mentioned</td>\n",
       "      <td>Not_mentioned</td>\n",
       "      <td>pickup</td>\n",
       "      <td>white</td>\n",
       "      <td>al</td>\n",
       "      <td>2021</td>\n",
       "    </tr>\n",
       "    <tr>\n",
       "      <th>28</th>\n",
       "      <td>7316814758</td>\n",
       "      <td>auburn</td>\n",
       "      <td>22590</td>\n",
       "      <td>2010</td>\n",
       "      <td>chevrolet</td>\n",
       "      <td>silverado 1500</td>\n",
       "      <td>good</td>\n",
       "      <td>8 cylinders</td>\n",
       "      <td>gas</td>\n",
       "      <td>71229</td>\n",
       "      <td>clean</td>\n",
       "      <td>other</td>\n",
       "      <td>1GCSCSE06AZ123805</td>\n",
       "      <td>Not_mentioned</td>\n",
       "      <td>Not_mentioned</td>\n",
       "      <td>pickup</td>\n",
       "      <td>blue</td>\n",
       "      <td>al</td>\n",
       "      <td>2021</td>\n",
       "    </tr>\n",
       "    <tr>\n",
       "      <th>29</th>\n",
       "      <td>7316814989</td>\n",
       "      <td>auburn</td>\n",
       "      <td>39590</td>\n",
       "      <td>2020</td>\n",
       "      <td>chevrolet</td>\n",
       "      <td>silverado 1500 crew</td>\n",
       "      <td>good</td>\n",
       "      <td>8 cylinders</td>\n",
       "      <td>gas</td>\n",
       "      <td>19160</td>\n",
       "      <td>clean</td>\n",
       "      <td>other</td>\n",
       "      <td>3GCPWCED5LG130317</td>\n",
       "      <td>Not_mentioned</td>\n",
       "      <td>Not_mentioned</td>\n",
       "      <td>pickup</td>\n",
       "      <td>red</td>\n",
       "      <td>al</td>\n",
       "      <td>2021</td>\n",
       "    </tr>\n",
       "    <tr>\n",
       "      <th>30</th>\n",
       "      <td>7316743432</td>\n",
       "      <td>auburn</td>\n",
       "      <td>30990</td>\n",
       "      <td>2017</td>\n",
       "      <td>toyota</td>\n",
       "      <td>tundra double cab sr</td>\n",
       "      <td>good</td>\n",
       "      <td>8 cylinders</td>\n",
       "      <td>gas</td>\n",
       "      <td>41124</td>\n",
       "      <td>clean</td>\n",
       "      <td>other</td>\n",
       "      <td>5TFRM5F17HX120972</td>\n",
       "      <td>Not_mentioned</td>\n",
       "      <td>Not_mentioned</td>\n",
       "      <td>pickup</td>\n",
       "      <td>red</td>\n",
       "      <td>al</td>\n",
       "      <td>2021</td>\n",
       "    </tr>\n",
       "    <tr>\n",
       "      <th>31</th>\n",
       "      <td>7316356412</td>\n",
       "      <td>auburn</td>\n",
       "      <td>15000</td>\n",
       "      <td>2013</td>\n",
       "      <td>ford</td>\n",
       "      <td>f-150 xlt</td>\n",
       "      <td>excellent</td>\n",
       "      <td>6 cylinders</td>\n",
       "      <td>gas</td>\n",
       "      <td>128000</td>\n",
       "      <td>clean</td>\n",
       "      <td>automatic</td>\n",
       "      <td>Not_mentioned</td>\n",
       "      <td>rwd</td>\n",
       "      <td>full-size</td>\n",
       "      <td>truck</td>\n",
       "      <td>black</td>\n",
       "      <td>al</td>\n",
       "      <td>2021</td>\n",
       "    </tr>\n",
       "  </tbody>\n",
       "</table>\n",
       "</div>"
      ],
      "text/plain": [
       "            id  region  price  year manufacturer                     model  \\\n",
       "27  7316814884  auburn  33590  2014          gmc  sierra 1500 crew cab slt   \n",
       "28  7316814758  auburn  22590  2010    chevrolet            silverado 1500   \n",
       "29  7316814989  auburn  39590  2020    chevrolet       silverado 1500 crew   \n",
       "30  7316743432  auburn  30990  2017       toyota      tundra double cab sr   \n",
       "31  7316356412  auburn  15000  2013         ford                 f-150 xlt   \n",
       "\n",
       "    condition    cylinders fuel  odometer title_status transmission  \\\n",
       "27       good  8 cylinders  gas     57923        clean        other   \n",
       "28       good  8 cylinders  gas     71229        clean        other   \n",
       "29       good  8 cylinders  gas     19160        clean        other   \n",
       "30       good  8 cylinders  gas     41124        clean        other   \n",
       "31  excellent  6 cylinders  gas    128000        clean    automatic   \n",
       "\n",
       "                  VIN          drive           size    type paint_color state  \\\n",
       "27  3GTP1VEC4EG551563  Not_mentioned  Not_mentioned  pickup       white    al   \n",
       "28  1GCSCSE06AZ123805  Not_mentioned  Not_mentioned  pickup        blue    al   \n",
       "29  3GCPWCED5LG130317  Not_mentioned  Not_mentioned  pickup         red    al   \n",
       "30  5TFRM5F17HX120972  Not_mentioned  Not_mentioned  pickup         red    al   \n",
       "31      Not_mentioned            rwd      full-size   truck       black    al   \n",
       "\n",
       "    Posting_Year  \n",
       "27          2021  \n",
       "28          2021  \n",
       "29          2021  \n",
       "30          2021  \n",
       "31          2021  "
      ]
     },
     "execution_count": 56,
     "metadata": {},
     "output_type": "execute_result"
    }
   ],
   "source": [
    "df.head()"
   ]
  },
  {
   "cell_type": "code",
   "execution_count": 57,
   "id": "2c2f0ede",
   "metadata": {},
   "outputs": [
    {
     "name": "stdout",
     "output_type": "stream",
     "text": [
      "<class 'pandas.core.frame.DataFrame'>\n",
      "Int64Index: 390857 entries, 27 to 426879\n",
      "Data columns (total 19 columns):\n",
      " #   Column        Non-Null Count   Dtype \n",
      "---  ------        --------------   ----- \n",
      " 0   id            390857 non-null  int64 \n",
      " 1   region        390857 non-null  object\n",
      " 2   price         390857 non-null  int64 \n",
      " 3   year          390857 non-null  int32 \n",
      " 4   manufacturer  390857 non-null  object\n",
      " 5   model         390857 non-null  object\n",
      " 6   condition     390857 non-null  object\n",
      " 7   cylinders     390857 non-null  object\n",
      " 8   fuel          390857 non-null  object\n",
      " 9   odometer      390857 non-null  int32 \n",
      " 10  title_status  390857 non-null  object\n",
      " 11  transmission  390857 non-null  object\n",
      " 12  VIN           390857 non-null  object\n",
      " 13  drive         390857 non-null  object\n",
      " 14  size          390857 non-null  object\n",
      " 15  type          390857 non-null  object\n",
      " 16  paint_color   390857 non-null  object\n",
      " 17  state         390857 non-null  object\n",
      " 18  Posting_Year  390857 non-null  int32 \n",
      "dtypes: int32(3), int64(2), object(14)\n",
      "memory usage: 55.2+ MB\n"
     ]
    }
   ],
   "source": [
    "df.info()"
   ]
  },
  {
   "cell_type": "code",
   "execution_count": 58,
   "id": "ce78205d",
   "metadata": {},
   "outputs": [],
   "source": [
    "# Making all column names 'Uppercase'\n",
    "df.columns = df.columns.str.upper()"
   ]
  },
  {
   "cell_type": "code",
   "execution_count": 59,
   "id": "41d31a40",
   "metadata": {},
   "outputs": [
    {
     "data": {
      "text/plain": [
       "Index(['ID', 'REGION', 'PRICE', 'YEAR', 'MANUFACTURER', 'MODEL', 'CONDITION',\n",
       "       'CYLINDERS', 'FUEL', 'ODOMETER', 'TITLE_STATUS', 'TRANSMISSION', 'VIN',\n",
       "       'DRIVE', 'SIZE', 'TYPE', 'PAINT_COLOR', 'STATE', 'POSTING_YEAR'],\n",
       "      dtype='object')"
      ]
     },
     "execution_count": 59,
     "metadata": {},
     "output_type": "execute_result"
    }
   ],
   "source": [
    "df.columns"
   ]
  },
  {
   "cell_type": "markdown",
   "id": "8a034d53",
   "metadata": {},
   "source": [
    "# Looking for outliers in 'YEAR' column"
   ]
  },
  {
   "cell_type": "code",
   "execution_count": 60,
   "id": "952a38c5",
   "metadata": {},
   "outputs": [
    {
     "data": {
      "text/plain": [
       "<AxesSubplot:xlabel='YEAR'>"
      ]
     },
     "execution_count": 60,
     "metadata": {},
     "output_type": "execute_result"
    },
    {
     "data": {
      "image/png": "[encoded data removed]",
      "text/plain": [
       "<Figure size 432x288 with 1 Axes>"
      ]
     },
     "metadata": {
      "needs_background": "light"
     },
     "output_type": "display_data"
    }
   ],
   "source": [
    "# Boxplot to see outliers in 'YEAR' column\n",
    "sns.boxplot(x = 'YEAR', data=df)"
   ]
  },
  {
   "cell_type": "code",
   "execution_count": 61,
   "id": "07d0abed",
   "metadata": {},
   "outputs": [
    {
     "data": {
      "text/plain": [
       "<AxesSubplot:xlabel='TYPE', ylabel='YEAR'>"
      ]
     },
     "execution_count": 61,
     "metadata": {},
     "output_type": "execute_result"
    },
    {
     "data": {
      "image/png": "[encoded data removed]",
      "text/plain": [
       "<Figure size 864x576 with 1 Axes>"
      ]
     },
     "metadata": {
      "needs_background": "light"
     },
     "output_type": "display_data"
    }
   ],
   "source": [
    "# Boxplot to see outliers in 'YEAR' column based on 'TYPE' of vehicle\n",
    "matplotlib.rcParams['figure.figsize'] = (12, 8)\n",
    "matplotlib.rcParams['axes.labelsize'] = (20)\n",
    "sns.boxplot(x= 'TYPE', y='YEAR', data=df)"
   ]
  },
  {
   "cell_type": "markdown",
   "id": "44c09bdb",
   "metadata": {},
   "source": [
    "# Looking for outliers in 'PRICE' column"
   ]
  },
  {
   "cell_type": "code",
   "execution_count": 62,
   "id": "d0bd921a",
   "metadata": {},
   "outputs": [
    {
     "data": {
      "text/plain": [
       "<AxesSubplot:xlabel='PRICE'>"
      ]
     },
     "execution_count": 62,
     "metadata": {},
     "output_type": "execute_result"
    },
    {
     "data": {
      "image/png": "[encoded data removed]",
      "text/plain": [
       "<Figure size 864x576 with 1 Axes>"
      ]
     },
     "metadata": {
      "needs_background": "light"
     },
     "output_type": "display_data"
    }
   ],
   "source": [
    "# Boxplot to see outliers in 'PRICE' column\n",
    "sns.boxplot(x = 'PRICE', data=df)"
   ]
  },
  {
   "cell_type": "code",
   "execution_count": 63,
   "id": "d55bc632",
   "metadata": {},
   "outputs": [
    {
     "data": {
      "text/plain": [
       "<AxesSubplot:xlabel='TYPE', ylabel='PRICE'>"
      ]
     },
     "execution_count": 63,
     "metadata": {},
     "output_type": "execute_result"
    },
    {
     "data": {
      "image/png": "[encoded data removed]",
      "text/plain": [
       "<Figure size 864x576 with 1 Axes>"
      ]
     },
     "metadata": {
      "needs_background": "light"
     },
     "output_type": "display_data"
    }
   ],
   "source": [
    "# Boxplot to see outliers in 'PRICE' column based on 'TYPE' of vehicle\n",
    "matplotlib.rcParams['figure.figsize'] = (12, 8)\n",
    "matplotlib.rcParams['axes.labelsize'] = (20)\n",
    "sns.boxplot(x= 'TYPE', y='PRICE', data=df)"
   ]
  },
  {
   "cell_type": "markdown",
   "id": "9d846b41",
   "metadata": {},
   "source": [
    "## Conclusion: There are too many outliers in both 'YEAR' and 'PRICE' columns as the boxplot has been suppressed."
   ]
  },
  {
   "cell_type": "markdown",
   "id": "a0fce81b",
   "metadata": {},
   "source": [
    "# Removing outliers in 'YEAR' columns using concepts of statistics"
   ]
  },
  {
   "cell_type": "code",
   "execution_count": 64,
   "id": "16f22f9d",
   "metadata": {},
   "outputs": [],
   "source": [
    "# Sorting the 'YEAR' column \n",
    "sorted_year = sorted(df['YEAR'])\n",
    "# sorted_year"
   ]
  },
  {
   "cell_type": "code",
   "execution_count": 65,
   "id": "f67280e2",
   "metadata": {},
   "outputs": [],
   "source": [
    "# Calculating the 25th and 75th percentile of the 'YEAR' column\n",
    "q1_year, q3_year = np.percentile(sorted_year, [25, 75])"
   ]
  },
  {
   "cell_type": "code",
   "execution_count": 66,
   "id": "50c2cf3a",
   "metadata": {},
   "outputs": [
    {
     "data": {
      "text/plain": [
       "(2008.0, 2017.0)"
      ]
     },
     "execution_count": 66,
     "metadata": {},
     "output_type": "execute_result"
    }
   ],
   "source": [
    "# 25th and 75th percentile values in 'YEAR' column\n",
    "q1_year, q3_year"
   ]
  },
  {
   "cell_type": "code",
   "execution_count": 67,
   "id": "7eb4295d",
   "metadata": {},
   "outputs": [
    {
     "data": {
      "text/plain": [
       "9.0"
      ]
     },
     "execution_count": 67,
     "metadata": {},
     "output_type": "execute_result"
    }
   ],
   "source": [
    "# Calculating IQR(Inter Quartile Range) in 'YEAR' column\n",
    "iqr_year = q3_year - q1_year\n",
    "iqr_year"
   ]
  },
  {
   "cell_type": "code",
   "execution_count": 68,
   "id": "8e6af8c7",
   "metadata": {},
   "outputs": [
    {
     "data": {
      "text/plain": [
       "(1994.5, 2030.5)"
      ]
     },
     "execution_count": 68,
     "metadata": {},
     "output_type": "execute_result"
    }
   ],
   "source": [
    "# Calculating the lower bound and upper bound year to differentiate outliers\n",
    "lower_bound_year = q1_year - (1.5 * iqr_year) \n",
    "upper_bound_year = q3_year + (1.5 * iqr_year)\n",
    "lower_bound_year, upper_bound_year"
   ]
  },
  {
   "cell_type": "code",
   "execution_count": 69,
   "id": "425b038b",
   "metadata": {},
   "outputs": [],
   "source": [
    "# Removing the outliers as per the logic above for 'YEAR' column\n",
    "df = df[(df['YEAR'] > 1994)]"
   ]
  },
  {
   "cell_type": "code",
   "execution_count": 70,
   "id": "7d8165c8",
   "metadata": {},
   "outputs": [
    {
     "name": "stdout",
     "output_type": "stream",
     "text": [
      "<class 'pandas.core.frame.DataFrame'>\n",
      "Int64Index: 375271 entries, 27 to 426879\n",
      "Data columns (total 19 columns):\n",
      " #   Column        Non-Null Count   Dtype \n",
      "---  ------        --------------   ----- \n",
      " 0   ID            375271 non-null  int64 \n",
      " 1   REGION        375271 non-null  object\n",
      " 2   PRICE         375271 non-null  int64 \n",
      " 3   YEAR          375271 non-null  int32 \n",
      " 4   MANUFACTURER  375271 non-null  object\n",
      " 5   MODEL         375271 non-null  object\n",
      " 6   CONDITION     375271 non-null  object\n",
      " 7   CYLINDERS     375271 non-null  object\n",
      " 8   FUEL          375271 non-null  object\n",
      " 9   ODOMETER      375271 non-null  int32 \n",
      " 10  TITLE_STATUS  375271 non-null  object\n",
      " 11  TRANSMISSION  375271 non-null  object\n",
      " 12  VIN           375271 non-null  object\n",
      " 13  DRIVE         375271 non-null  object\n",
      " 14  SIZE          375271 non-null  object\n",
      " 15  TYPE          375271 non-null  object\n",
      " 16  PAINT_COLOR   375271 non-null  object\n",
      " 17  STATE         375271 non-null  object\n",
      " 18  POSTING_YEAR  375271 non-null  int32 \n",
      "dtypes: int32(3), int64(2), object(14)\n",
      "memory usage: 53.0+ MB\n"
     ]
    }
   ],
   "source": [
    "df.info()"
   ]
  },
  {
   "cell_type": "markdown",
   "id": "0bae1fac",
   "metadata": {},
   "source": [
    "# Removing outliers in 'PRICE' columns using concepts of statistics"
   ]
  },
  {
   "cell_type": "code",
   "execution_count": 71,
   "id": "c24408fa",
   "metadata": {},
   "outputs": [],
   "source": [
    "# Sorting the 'PRICE' column \n",
    "sorted_price = sorted(df['PRICE'])\n",
    "# sorted_price"
   ]
  },
  {
   "cell_type": "code",
   "execution_count": 72,
   "id": "a8a2af00",
   "metadata": {},
   "outputs": [],
   "source": [
    "# Calculating the 25th and 75th percentile of the 'PRICE' column\n",
    "q1_price, q3_price = np.percentile(sorted_price, [25, 75])"
   ]
  },
  {
   "cell_type": "code",
   "execution_count": 73,
   "id": "8a292c05",
   "metadata": {},
   "outputs": [
    {
     "data": {
      "text/plain": [
       "(7490.0, 27988.0)"
      ]
     },
     "execution_count": 73,
     "metadata": {},
     "output_type": "execute_result"
    }
   ],
   "source": [
    "# 25th and 75th percentile values in 'PRICE' column\n",
    "q1_price, q3_price"
   ]
  },
  {
   "cell_type": "code",
   "execution_count": 74,
   "id": "ee19712e",
   "metadata": {},
   "outputs": [
    {
     "data": {
      "text/plain": [
       "20498.0"
      ]
     },
     "execution_count": 74,
     "metadata": {},
     "output_type": "execute_result"
    }
   ],
   "source": [
    "# Calculating IQR(Inter Quartile Range) in 'PRICE' column\n",
    "iqr_price = q3_price - q1_price\n",
    "iqr_price"
   ]
  },
  {
   "cell_type": "code",
   "execution_count": 75,
   "id": "24468473",
   "metadata": {},
   "outputs": [
    {
     "data": {
      "text/plain": [
       "(-23257.0, 58735.0)"
      ]
     },
     "execution_count": 75,
     "metadata": {},
     "output_type": "execute_result"
    }
   ],
   "source": [
    "# Calculating the lower bound and upper bound price to differentiate outliers\n",
    "lower_bound_price = q1_price - (1.5 * iqr_price) \n",
    "upper_bound_price = q3_price + (1.5 * iqr_price)\n",
    "lower_bound_price, upper_bound_price"
   ]
  },
  {
   "cell_type": "code",
   "execution_count": 76,
   "id": "329429c6",
   "metadata": {},
   "outputs": [],
   "source": [
    "# Removing the outliers as per the logic above for 'PRICE' column\n",
    "df = df[(df['PRICE'] <= 58735) & (df['PRICE'] > 0)]"
   ]
  },
  {
   "cell_type": "code",
   "execution_count": 77,
   "id": "2426b376",
   "metadata": {},
   "outputs": [
    {
     "name": "stdout",
     "output_type": "stream",
     "text": [
      "<class 'pandas.core.frame.DataFrame'>\n",
      "Int64Index: 367971 entries, 27 to 426879\n",
      "Data columns (total 19 columns):\n",
      " #   Column        Non-Null Count   Dtype \n",
      "---  ------        --------------   ----- \n",
      " 0   ID            367971 non-null  int64 \n",
      " 1   REGION        367971 non-null  object\n",
      " 2   PRICE         367971 non-null  int64 \n",
      " 3   YEAR          367971 non-null  int32 \n",
      " 4   MANUFACTURER  367971 non-null  object\n",
      " 5   MODEL         367971 non-null  object\n",
      " 6   CONDITION     367971 non-null  object\n",
      " 7   CYLINDERS     367971 non-null  object\n",
      " 8   FUEL          367971 non-null  object\n",
      " 9   ODOMETER      367971 non-null  int32 \n",
      " 10  TITLE_STATUS  367971 non-null  object\n",
      " 11  TRANSMISSION  367971 non-null  object\n",
      " 12  VIN           367971 non-null  object\n",
      " 13  DRIVE         367971 non-null  object\n",
      " 14  SIZE          367971 non-null  object\n",
      " 15  TYPE          367971 non-null  object\n",
      " 16  PAINT_COLOR   367971 non-null  object\n",
      " 17  STATE         367971 non-null  object\n",
      " 18  POSTING_YEAR  367971 non-null  int32 \n",
      "dtypes: int32(3), int64(2), object(14)\n",
      "memory usage: 51.9+ MB\n"
     ]
    }
   ],
   "source": [
    "df.info()"
   ]
  },
  {
   "cell_type": "markdown",
   "id": "cf2248de",
   "metadata": {},
   "source": [
    "# Change in boxplot of 'YEAR' column after removing outliers"
   ]
  },
  {
   "cell_type": "code",
   "execution_count": 78,
   "id": "26a806da",
   "metadata": {},
   "outputs": [
    {
     "data": {
      "text/plain": [
       "<AxesSubplot:xlabel='YEAR'>"
      ]
     },
     "execution_count": 78,
     "metadata": {},
     "output_type": "execute_result"
    },
    {
     "data": {
      "image/png": "[encoded data removed]",
      "text/plain": [
       "<Figure size 864x576 with 1 Axes>"
      ]
     },
     "metadata": {
      "needs_background": "light"
     },
     "output_type": "display_data"
    }
   ],
   "source": [
    "# Boxplot to see the distribution of 'YEAR' column after outliers has been removed\n",
    "sns.boxplot(x = 'YEAR', data=df)"
   ]
  },
  {
   "cell_type": "code",
   "execution_count": 79,
   "id": "794c68bc",
   "metadata": {},
   "outputs": [
    {
     "data": {
      "text/plain": [
       "<AxesSubplot:xlabel='TYPE', ylabel='YEAR'>"
      ]
     },
     "execution_count": 79,
     "metadata": {},
     "output_type": "execute_result"
    },
    {
     "data": {
      "image/png": "[encoded data removed]",
      "text/plain": [
       "<Figure size 864x576 with 1 Axes>"
      ]
     },
     "metadata": {
      "needs_background": "light"
     },
     "output_type": "display_data"
    }
   ],
   "source": [
    "# Boxplot to see the distribution of 'YEAR' column after outliers has been removed in 'YEAR' column \n",
    "# based on 'TYPE' of vehicle\n",
    "matplotlib.rcParams['figure.figsize'] = (12, 8)\n",
    "matplotlib.rcParams['axes.labelsize'] = (20)\n",
    "sns.boxplot(x= 'TYPE', y='YEAR', data=df)"
   ]
  },
  {
   "cell_type": "markdown",
   "id": "011c4ecf",
   "metadata": {},
   "source": [
    "# Change in boxplot of 'PRICE' column after removing outliers"
   ]
  },
  {
   "cell_type": "code",
   "execution_count": 80,
   "id": "1ce7e12f",
   "metadata": {},
   "outputs": [
    {
     "data": {
      "text/plain": [
       "<AxesSubplot:xlabel='PRICE'>"
      ]
     },
     "execution_count": 80,
     "metadata": {},
     "output_type": "execute_result"
    },
    {
     "data": {
      "image/png": "[encoded data removed]",
      "text/plain": [
       "<Figure size 864x576 with 1 Axes>"
      ]
     },
     "metadata": {
      "needs_background": "light"
     },
     "output_type": "display_data"
    }
   ],
   "source": [
    "# Boxplot to see the distribution of 'PRICE' column after outliers has been removed\n",
    "sns.boxplot(x ='PRICE', data=df)"
   ]
  },
  {
   "cell_type": "code",
   "execution_count": 81,
   "id": "b6575b64",
   "metadata": {},
   "outputs": [
    {
     "data": {
      "text/plain": [
       "<AxesSubplot:xlabel='TYPE', ylabel='PRICE'>"
      ]
     },
     "execution_count": 81,
     "metadata": {},
     "output_type": "execute_result"
    },
    {
     "data": {
      "image/png": "[encoded data removed]",
      "text/plain": [
       "<Figure size 864x576 with 1 Axes>"
      ]
     },
     "metadata": {
      "needs_background": "light"
     },
     "output_type": "display_data"
    }
   ],
   "source": [
    "# Boxplot to see the distribution of 'YEAR' column after outliers has been removed in 'YEAR' column \n",
    "# based on 'TYPE' of vehicle\n",
    "matplotlib.rcParams['figure.figsize'] = (12, 8)\n",
    "matplotlib.rcParams['axes.labelsize'] = (20)\n",
    "sns.boxplot(x= 'TYPE', y='PRICE', data=df)"
   ]
  },
  {
   "cell_type": "markdown",
   "id": "7abbc675",
   "metadata": {},
   "source": [
    "## We can clearly see the boxplots now after many outliers have been removed from both 'YEAR' and 'PRICE' columns."
   ]
  },
  {
   "cell_type": "code",
   "execution_count": 82,
   "id": "981cc976",
   "metadata": {},
   "outputs": [],
   "source": [
    "# Saving the clean data in 'clean_data.csv'\n",
    "df.to_csv('clean_data.csv', index = False)"
   ]
  },
  {
   "cell_type": "markdown",
   "id": "34ba5468",
   "metadata": {},
   "source": [
    "## Further analysis based on different parameter in \"clean_data.csv\" is in the analysis.ipynb file..."
   ]
  },
  {
   "cell_type": "code",
   "execution_count": null,
   "id": "d8c032cf",
   "metadata": {},
   "outputs": [],
   "source": []
  }
 ],
 "metadata": {
  "kernelspec": {
   "display_name": "Python 3 (ipykernel)",
   "language": "python",
   "name": "python3"
  },
  "language_info": {
   "codemirror_mode": {
    "name": "ipython",
    "version": 3
   },
   "file_extension": ".py",
   "mimetype": "text/x-python",
   "name": "python",
   "nbconvert_exporter": "python",
   "pygments_lexer": "ipython3",
   "version": "3.10.4"
  }
 },
 "nbformat": 4,
 "nbformat_minor": 5
}
